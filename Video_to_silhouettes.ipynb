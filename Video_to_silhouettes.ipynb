{
  "nbformat": 4,
  "nbformat_minor": 0,
  "metadata": {
    "kernelspec": {
      "display_name": "Python 3",
      "language": "python",
      "name": "python3"
    },
    "language_info": {
      "codemirror_mode": {
        "name": "ipython",
        "version": 3
      },
      "file_extension": ".py",
      "mimetype": "text/x-python",
      "name": "python",
      "nbconvert_exporter": "python",
      "pygments_lexer": "ipython3",
      "version": "3.7.3"
    },
    "colab": {
      "name": "Video_to_silhouettes.ipynb",
      "provenance": [],
      "collapsed_sections": []
    }
  },
  "cells": [
    {
      "cell_type": "code",
      "metadata": {
        "id": "DUQZiyofTHmd"
      },
      "source": [
        "import cv2\n",
        "import os"
      ],
      "execution_count": null,
      "outputs": []
    },
    {
      "cell_type": "code",
      "metadata": {
        "id": "nhEpfWJnTHmq",
        "colab": {
          "base_uri": "https://localhost:8080/",
          "height": 34
        },
        "outputId": "a86b38c1-e832-4946-b43c-56194f52900c"
      },
      "source": [
        "print(cv2.__version__)"
      ],
      "execution_count": null,
      "outputs": [
        {
          "output_type": "stream",
          "text": [
            "4.1.2\n"
          ],
          "name": "stdout"
        }
      ]
    },
    {
      "cell_type": "code",
      "metadata": {
        "id": "vy7Mc8HbTHm1",
        "colab": {
          "base_uri": "https://localhost:8080/",
          "height": 34
        },
        "outputId": "e378c18b-b324-4e9c-99ff-dd3adfb0abc5"
      },
      "source": [
        "path = \"D:/csia dataset/_/DatasetB/videos/\"\n",
        "test_video = path + \"001-bg-01-000.avi\"\n",
        "print(test_video)"
      ],
      "execution_count": null,
      "outputs": [
        {
          "output_type": "stream",
          "text": [
            "D:/csia dataset/_/DatasetB/videos/001-bg-01-000.avi\n"
          ],
          "name": "stdout"
        }
      ]
    },
    {
      "cell_type": "code",
      "metadata": {
        "id": "iBAZIirpTHm8"
      },
      "source": [
        "cam = cv2.VideoCapture(test_video)\n",
        "\n",
        "try:\n",
        "    if not os.path.exists('data'):\n",
        "        os.makedirs('data')\n",
        "        \n",
        "except OSError:\n",
        "    print(\"Error: Creating sirectory of data\")\n",
        "    \n",
        "currentframe = 0\n",
        "\n",
        "while(True):\n",
        "    #reading from frame\n",
        "    ret, frame = cam.read()\n",
        "    \n",
        "    if ret:\n",
        "        #if video is still left continue creating images\n",
        "        name = \"./data/frame\" + str(currentframe) + \".jpg\"\n",
        "        \n",
        "        #writing the extractedd images\n",
        "        cv2.imwrite(name, frame)\n",
        "        \n",
        "        currentframe += 1\n",
        "    else: \n",
        "        break\n",
        "\n",
        "cam.release()\n",
        "cv2.destroyAllWindows()\n"
      ],
      "execution_count": null,
      "outputs": []
    },
    {
      "cell_type": "code",
      "metadata": {
        "id": "PUrdPNQaTHnA"
      },
      "source": [
        ""
      ],
      "execution_count": null,
      "outputs": []
    }
  ]
}